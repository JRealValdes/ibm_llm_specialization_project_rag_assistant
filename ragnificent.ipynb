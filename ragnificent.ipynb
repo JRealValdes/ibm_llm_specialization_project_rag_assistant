{
 "cells": [
  {
   "cell_type": "markdown",
   "id": "49fd810e",
   "metadata": {},
   "source": [
    "# RAGnificent\n",
    "A Magnificent RAG for the IBM Specialization \"Generative AI Engineering with LLMs\" final project"
   ]
  },
  {
   "cell_type": "code",
   "execution_count": 1,
   "id": "98e18647",
   "metadata": {},
   "outputs": [
    {
     "name": "stderr",
     "output_type": "stream",
     "text": [
      "USER_AGENT environment variable not set, consider setting it to identify your requests.\n"
     ]
    }
   ],
   "source": [
    "import json\n",
    "from pathlib import Path\n",
    "from langchain_community.document_loaders import (\n",
    "    PyMuPDFLoader,\n",
    "    UnstructuredMarkdownLoader,\n",
    "    JSONLoader,\n",
    "    WebBaseLoader\n",
    ")\n",
    "from langchain_community.document_loaders.csv_loader import UnstructuredCSVLoader"
   ]
  },
  {
   "cell_type": "code",
   "execution_count": 2,
   "id": "7f9e6388",
   "metadata": {},
   "outputs": [],
   "source": [
    "mlb_teams_csv_path = 'documents\\csv\\mlb_teams_2012.csv'\n",
    "facebook_chat_json_path = Path(\"documents\") / \"json\" / \"facebook_chat.json\"\n",
    "markdown_sample_path = 'documents\\markdown\\markdown-sample.md'\n",
    "large_scale_alignment_pdf_path = 'documents\\pdf\\large_scale_alignment.pdf'\n",
    "lora_paper_pdf_path = 'documents\\pdf\\LoRA_paper.pdf'\n",
    "new_policies_txt_path = 'documents\\txt\\new_policies.txt'\n",
    "langchain_url = 'https://www.ibm.com/topics/langchain'"
   ]
  },
  {
   "cell_type": "markdown",
   "id": "f5d82112",
   "metadata": {},
   "source": [
    "## Task 1 - Load document using LangChain for different sources"
   ]
  },
  {
   "cell_type": "markdown",
   "id": "d9c0dd80",
   "metadata": {},
   "source": [
    "### PDF"
   ]
  },
  {
   "cell_type": "code",
   "execution_count": null,
   "id": "ad85fa78",
   "metadata": {},
   "outputs": [],
   "source": [
    "pdf_loader = PyMuPDFLoader(lora_paper_pdf_path)\n",
    "pdf_data = pdf_loader.load()\n",
    "# print(pdf_data[0])"
   ]
  },
  {
   "cell_type": "markdown",
   "id": "6bc2a0f4",
   "metadata": {},
   "source": [
    "### Markdown"
   ]
  },
  {
   "cell_type": "code",
   "execution_count": null,
   "id": "48a15a6b",
   "metadata": {},
   "outputs": [],
   "source": [
    "md_loader = UnstructuredMarkdownLoader(markdown_sample_path)\n",
    "md_data = md_loader.load()\n",
    "# print(md_data[0])"
   ]
  },
  {
   "cell_type": "markdown",
   "id": "e9a7762e",
   "metadata": {},
   "source": [
    "### JSON"
   ]
  },
  {
   "cell_type": "code",
   "execution_count": 5,
   "id": "c48c029d",
   "metadata": {},
   "outputs": [
    {
     "name": "stdout",
     "output_type": "stream",
     "text": [
      "page_content='Bye!' metadata={'source': 'C:\\\\Users\\\\jreal\\\\Documents\\\\Stark Industries\\\\GitHub\\\\ibm_llm_specialization_project_rag_assistant\\\\documents\\\\json\\\\facebook_chat.json', 'seq_num': 1}\n"
     ]
    }
   ],
   "source": [
    "json_loader = JSONLoader(\n",
    "    file_path=facebook_chat_json_path,\n",
    "    jq_schema='.messages[].content',\n",
    "    text_content=False)\n",
    "\n",
    "json_data = json_loader.load()\n",
    "print(json_data[0])"
   ]
  },
  {
   "cell_type": "code",
   "execution_count": null,
   "id": "fce30d66",
   "metadata": {},
   "outputs": [],
   "source": []
  }
 ],
 "metadata": {
  "kernelspec": {
   "display_name": ".venv",
   "language": "python",
   "name": "python3"
  },
  "language_info": {
   "codemirror_mode": {
    "name": "ipython",
    "version": 3
   },
   "file_extension": ".py",
   "mimetype": "text/x-python",
   "name": "python",
   "nbconvert_exporter": "python",
   "pygments_lexer": "ipython3",
   "version": "3.11.9"
  }
 },
 "nbformat": 4,
 "nbformat_minor": 5
}
